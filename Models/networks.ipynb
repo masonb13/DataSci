{
 "cells": [
  {
   "cell_type": "code",
   "execution_count": 1,
   "metadata": {},
   "outputs": [],
   "source": [
    "import networkx as nx\n",
    "import random\n",
    "import matplotlib.pyplot as plt\n",
    "import copy"
   ]
  },
  {
   "cell_type": "code",
   "execution_count": 2,
   "metadata": {},
   "outputs": [],
   "source": [
    "#decide to change from s to i\n",
    "def choose(q,i, numS, samples):\n",
    "    p = 1-q**i\n",
    "    weighted = random.choices(samples, weights = (1-p, p), k=numS)\n",
    "    return weighted"
   ]
  },
  {
   "cell_type": "markdown",
   "metadata": {},
   "source": [
    "Network to simulate reedfrost:"
   ]
  },
  {
   "cell_type": "code",
   "execution_count": 3,
   "metadata": {},
   "outputs": [
    {
     "ename": "KeyboardInterrupt",
     "evalue": "",
     "output_type": "error",
     "traceback": [
      "\u001b[1;31m---------------------------------------------------------------------------\u001b[0m",
      "\u001b[1;31mKeyboardInterrupt\u001b[0m                         Traceback (most recent call last)",
      "\u001b[1;32mc:\\Users\\mburs\\OneDrive - Lehigh University\\Opportunities\\Research\\DataSci - Git\\Models\\networks.ipynb Cell 4\u001b[0m in \u001b[0;36m<cell line: 53>\u001b[1;34m()\u001b[0m\n\u001b[0;32m     <a href='vscode-notebook-cell:/c%3A/Users/mburs/OneDrive%20-%20Lehigh%20University/Opportunities/Research/DataSci%20-%20Git/Models/networks.ipynb#W3sZmlsZQ%3D%3D?line=51'>52</a>\u001b[0m numRep \u001b[39m=\u001b[39m \u001b[39m5\u001b[39m\n\u001b[0;32m     <a href='vscode-notebook-cell:/c%3A/Users/mburs/OneDrive%20-%20Lehigh%20University/Opportunities/Research/DataSci%20-%20Git/Models/networks.ipynb#W3sZmlsZQ%3D%3D?line=52'>53</a>\u001b[0m \u001b[39mfor\u001b[39;00m i \u001b[39min\u001b[39;00m \u001b[39mrange\u001b[39m(numRep):\n\u001b[1;32m---> <a href='vscode-notebook-cell:/c%3A/Users/mburs/OneDrive%20-%20Lehigh%20University/Opportunities/Research/DataSci%20-%20Git/Models/networks.ipynb#W3sZmlsZQ%3D%3D?line=53'>54</a>\u001b[0m     networkModel()\n\u001b[0;32m     <a href='vscode-notebook-cell:/c%3A/Users/mburs/OneDrive%20-%20Lehigh%20University/Opportunities/Research/DataSci%20-%20Git/Models/networks.ipynb#W3sZmlsZQ%3D%3D?line=55'>56</a>\u001b[0m plt\u001b[39m.\u001b[39mgrid()\n\u001b[0;32m     <a href='vscode-notebook-cell:/c%3A/Users/mburs/OneDrive%20-%20Lehigh%20University/Opportunities/Research/DataSci%20-%20Git/Models/networks.ipynb#W3sZmlsZQ%3D%3D?line=56'>57</a>\u001b[0m plt\u001b[39m.\u001b[39mshow()\n",
      "\u001b[1;32mc:\\Users\\mburs\\OneDrive - Lehigh University\\Opportunities\\Research\\DataSci - Git\\Models\\networks.ipynb Cell 4\u001b[0m in \u001b[0;36mnetworkModel\u001b[1;34m()\u001b[0m\n\u001b[0;32m     <a href='vscode-notebook-cell:/c%3A/Users/mburs/OneDrive%20-%20Lehigh%20University/Opportunities/Research/DataSci%20-%20Git/Models/networks.ipynb#W3sZmlsZQ%3D%3D?line=23'>24</a>\u001b[0m \u001b[39mdef\u001b[39;00m \u001b[39mnetworkModel\u001b[39m():\n\u001b[0;32m     <a href='vscode-notebook-cell:/c%3A/Users/mburs/OneDrive%20-%20Lehigh%20University/Opportunities/Research/DataSci%20-%20Git/Models/networks.ipynb#W3sZmlsZQ%3D%3D?line=24'>25</a>\u001b[0m     \u001b[39m#build network and set all to susceptible\u001b[39;00m\n\u001b[0;32m     <a href='vscode-notebook-cell:/c%3A/Users/mburs/OneDrive%20-%20Lehigh%20University/Opportunities/Research/DataSci%20-%20Git/Models/networks.ipynb#W3sZmlsZQ%3D%3D?line=25'>26</a>\u001b[0m     s \u001b[39m=\u001b[39m \u001b[39m2000\u001b[39m\n\u001b[1;32m---> <a href='vscode-notebook-cell:/c%3A/Users/mburs/OneDrive%20-%20Lehigh%20University/Opportunities/Research/DataSci%20-%20Git/Models/networks.ipynb#W3sZmlsZQ%3D%3D?line=26'>27</a>\u001b[0m     G \u001b[39m=\u001b[39m nx\u001b[39m.\u001b[39;49mcomplete_graph(s)\n\u001b[0;32m     <a href='vscode-notebook-cell:/c%3A/Users/mburs/OneDrive%20-%20Lehigh%20University/Opportunities/Research/DataSci%20-%20Git/Models/networks.ipynb#W3sZmlsZQ%3D%3D?line=28'>29</a>\u001b[0m     \u001b[39mfor\u001b[39;00m i \u001b[39min\u001b[39;00m G:\n\u001b[0;32m     <a href='vscode-notebook-cell:/c%3A/Users/mburs/OneDrive%20-%20Lehigh%20University/Opportunities/Research/DataSci%20-%20Git/Models/networks.ipynb#W3sZmlsZQ%3D%3D?line=29'>30</a>\u001b[0m         G\u001b[39m.\u001b[39mnodes[i][\u001b[39m'\u001b[39m\u001b[39mval\u001b[39m\u001b[39m'\u001b[39m] \u001b[39m=\u001b[39m \u001b[39m'\u001b[39m\u001b[39ms\u001b[39m\u001b[39m'\u001b[39m\n",
      "File \u001b[1;32mc:\\Users\\mburs\\AppData\\Local\\Programs\\Python\\Python310\\lib\\site-packages\\networkx\\utils\\decorators.py:845\u001b[0m, in \u001b[0;36margmap.__call__.<locals>.func\u001b[1;34m(_argmap__wrapper, *args, **kwargs)\u001b[0m\n\u001b[0;32m    844\u001b[0m \u001b[39mdef\u001b[39;00m \u001b[39mfunc\u001b[39m(\u001b[39m*\u001b[39margs, __wrapper\u001b[39m=\u001b[39m\u001b[39mNone\u001b[39;00m, \u001b[39m*\u001b[39m\u001b[39m*\u001b[39mkwargs):\n\u001b[1;32m--> 845\u001b[0m     \u001b[39mreturn\u001b[39;00m argmap\u001b[39m.\u001b[39m_lazy_compile(__wrapper)(\u001b[39m*\u001b[39margs, \u001b[39m*\u001b[39m\u001b[39m*\u001b[39mkwargs)\n",
      "File \u001b[1;32m<class 'networkx.utils.decorators.argmap'> compilation 4:4\u001b[0m, in \u001b[0;36margmap_complete_graph_1\u001b[1;34m(n, create_using)\u001b[0m\n\u001b[0;32m      2\u001b[0m \u001b[39mimport\u001b[39;00m \u001b[39mcollections\u001b[39;00m\n\u001b[0;32m      3\u001b[0m \u001b[39mimport\u001b[39;00m \u001b[39mgzip\u001b[39;00m\n\u001b[1;32m----> 4\u001b[0m \u001b[39mimport\u001b[39;00m \u001b[39minspect\u001b[39;00m\n\u001b[0;32m      5\u001b[0m \u001b[39mimport\u001b[39;00m \u001b[39mitertools\u001b[39;00m\n\u001b[0;32m      6\u001b[0m \u001b[39mimport\u001b[39;00m \u001b[39mre\u001b[39;00m\n",
      "File \u001b[1;32mc:\\Users\\mburs\\AppData\\Local\\Programs\\Python\\Python310\\lib\\site-packages\\networkx\\generators\\classic.py:261\u001b[0m, in \u001b[0;36mcomplete_graph\u001b[1;34m(n, create_using)\u001b[0m\n\u001b[0;32m    259\u001b[0m     \u001b[39melse\u001b[39;00m:\n\u001b[0;32m    260\u001b[0m         edges \u001b[39m=\u001b[39m itertools\u001b[39m.\u001b[39mcombinations(nodes, \u001b[39m2\u001b[39m)\n\u001b[1;32m--> 261\u001b[0m     G\u001b[39m.\u001b[39;49madd_edges_from(edges)\n\u001b[0;32m    262\u001b[0m \u001b[39mreturn\u001b[39;00m G\n",
      "File \u001b[1;32mc:\\Users\\mburs\\AppData\\Local\\Programs\\Python\\Python310\\lib\\site-packages\\networkx\\classes\\graph.py:947\u001b[0m, in \u001b[0;36mGraph.add_edges_from\u001b[1;34m(self, ebunch_to_add, **attr)\u001b[0m\n\u001b[0;32m    909\u001b[0m \u001b[39m\"\"\"Add all the edges in ebunch_to_add.\u001b[39;00m\n\u001b[0;32m    910\u001b[0m \n\u001b[0;32m    911\u001b[0m \u001b[39mParameters\u001b[39;00m\n\u001b[1;32m   (...)\u001b[0m\n\u001b[0;32m    944\u001b[0m \u001b[39m>>> G.add_edges_from([(3, 4), (1, 4)], label=\"WN2898\")\u001b[39;00m\n\u001b[0;32m    945\u001b[0m \u001b[39m\"\"\"\u001b[39;00m\n\u001b[0;32m    946\u001b[0m \u001b[39mfor\u001b[39;00m e \u001b[39min\u001b[39;00m ebunch_to_add:\n\u001b[1;32m--> 947\u001b[0m     ne \u001b[39m=\u001b[39m \u001b[39mlen\u001b[39;49m(e)\n\u001b[0;32m    948\u001b[0m     \u001b[39mif\u001b[39;00m ne \u001b[39m==\u001b[39m \u001b[39m3\u001b[39m:\n\u001b[0;32m    949\u001b[0m         u, v, dd \u001b[39m=\u001b[39m e\n",
      "\u001b[1;31mKeyboardInterrupt\u001b[0m: "
     ]
    }
   ],
   "source": [
    "def infect(G, q):\n",
    "    choices = ['s','i']\n",
    "    I = []\n",
    "    R = []\n",
    "    infected = list(dict( (n,d['val']) for n,d in G.nodes().items() if d['val'] == 'i'))\n",
    "    for i in range(len(G.nodes)):\n",
    "        if G.nodes[i]['val'] == 's':\n",
    "            neighbors = list(G.adj[i]) # find all nodes connected to node i with ['val'] == 'i'\n",
    "            infectedNeighbors = list(set(neighbors).intersection(set(infected)))\n",
    "            p = 1-q**len(infectedNeighbors)\n",
    "            choose = random.choices(choices, weights=(1-p, p), k=1)\n",
    "            if choose[0] == 'i':\n",
    "                I.append(i)\n",
    "        elif G.nodes[i]['val'] == 'i':\n",
    "            R.append(i)\n",
    "    return [I, R]\n",
    "\n",
    "def start(G, n):\n",
    "    for i in range(n):\n",
    "        length = len(G.nodes())\n",
    "        num = random.randrange(length)\n",
    "        G.nodes[num]['val'] = 'i'\n",
    "\n",
    "def networkModel():\n",
    "    #build network and set all to susceptible\n",
    "    s = 2000\n",
    "    G = nx.complete_graph(s)\n",
    "\n",
    "    for i in G:\n",
    "        G.nodes[i]['val'] = 's'\n",
    "    numGen = 20\n",
    "    q = .999\n",
    "    i = 2\n",
    "\n",
    "    hist = []\n",
    "    I = [i]\n",
    "    start(G,i)\n",
    "    hist.append(G)\n",
    "\n",
    "    #infect netwok\n",
    "    for i in range(numGen):\n",
    "        output = infect(G,q)\n",
    "        I.append(len(output[0]))\n",
    "\n",
    "        for j in output[0]:\n",
    "            G.nodes[j]['val'] = 'i'\n",
    "        for r in output[1]:\n",
    "            G.nodes[r]['val'] = 'r'\n",
    "\n",
    "    plt.plot(I)\n",
    "\n",
    "numRep = 5\n",
    "for i in range(numRep):\n",
    "    networkModel()\n",
    "\n",
    "plt.grid()\n",
    "plt.show()"
   ]
  },
  {
   "cell_type": "markdown",
   "metadata": {},
   "source": [
    "Network with broken ties:"
   ]
  },
  {
   "cell_type": "code",
   "execution_count": 4,
   "metadata": {},
   "outputs": [],
   "source": [
    "# removes p percent of edges\n",
    "def removeRandom(G, p):\n",
    "    num = int(len(G.edges)*p)\n",
    "    G.remove_edges_from(random.sample(G.edges(), k=num))\n",
    "\n",
    "#simulates one time interval of infection\n",
    "def infect(G, q):\n",
    "    choices = ['s','i']\n",
    "    I = []\n",
    "    R = []\n",
    "    infected = list(dict((n,d['val']) for n,d in G.nodes().items() if d['val'] == 'i'))\n",
    "    susceptible = list(dict((n,d['val']) for n,d in G.nodes().items() if d['val'] == 's'))\n",
    "    for i in susceptible:\n",
    "        neighbors = list(G.adj[i]) # find all nodes connected to node i with ['val'] == 'i'\n",
    "        infectedNeighbors = list(set(neighbors).intersection(set(infected)))\n",
    "        p = (1-q**len(infectedNeighbors)) #---------------------------------------------------------------------------\n",
    "        choose = random.choices(choices, weights=(1-p, p), k=1)\n",
    "        if choose[0] == 'i':\n",
    "            I.append(i)\n",
    "    return [I, infected]    #new infected, old infected now recovered\n",
    "\n",
    "#sets n nodes to infected randomly to start the model\n",
    "def start(G, n):\n",
    "    num = random.sample(range(len(G)), k=n)\n",
    "    for i in num:\n",
    "        G.nodes[i]['val'] = 'i'"
   ]
  },
  {
   "cell_type": "code",
   "execution_count": 10,
   "metadata": {},
   "outputs": [
    {
     "name": "stdout",
     "output_type": "stream",
     "text": [
      "\n",
      "Rep: 1\n"
     ]
    },
    {
     "name": "stderr",
     "output_type": "stream",
     "text": [
      "C:\\Users\\mburs\\AppData\\Local\\Temp\\ipykernel_10152\\1908010638.py:4: DeprecationWarning: Sampling from a set deprecated\n",
      "since Python 3.9 and will be removed in a subsequent version.\n",
      "  G.remove_edges_from(random.sample(G.edges(), k=num))\n"
     ]
    },
    {
     "name": "stdout",
     "output_type": "stream",
     "text": [
      "Number of Edges: 199900\n",
      "Total infected: 1640\n",
      "Peak infected: 328\n"
     ]
    },
    {
     "data": {
      "image/png": "[encoded data removed]",
      "text/plain": [
       "<Figure size 432x288 with 1 Axes>"
      ]
     },
     "metadata": {
      "needs_background": "light"
     },
     "output_type": "display_data"
    }
   ],
   "source": [
    "#complete model\n",
    "def brokenNetworkModel():\n",
    "    #paramaters\n",
    "    s = 2000\n",
    "    p = .90 #remove p percent of edges -------------------------------------------------------------\n",
    "    numGen = 30\n",
    "    q = .99\n",
    "    i = 2\n",
    "\n",
    "    #build network and infect first interval\n",
    "    G = nx.complete_graph(s)   \n",
    "    nx.set_node_attributes(G, \"s\", \"val\")\n",
    "    removeRandom(G, p)\n",
    "    print(f'Number of Edges: {G.number_of_edges()}')\n",
    "    I = [i]\n",
    "    start(G,i)\n",
    "    # nx.draw(G)\n",
    "\n",
    "    #infect numGen intervals of the network\n",
    "    for i in range(numGen):\n",
    "        output = infect(G,q)\n",
    "        I.append(len(output[0]))\n",
    "\n",
    "        for j in output[0]:\n",
    "            G.nodes[j]['val'] = 'i'\n",
    "        for r in output[1]:\n",
    "            G.nodes[r]['val'] = 'r'\n",
    "\n",
    "    #plot data and output data\n",
    "    plt.plot(I)\n",
    "    print(f'Total infected: {sum(I)}')\n",
    "    print(f'Peak infected: {max(I)}')\n",
    "\n",
    "#re-runs the model numRep number of times\n",
    "numRep = 1\n",
    "for i in range(numRep):\n",
    "    print(f'\\nRep: {i+1}')\n",
    "    brokenNetworkModel()\n",
    "\n",
    "plt.grid()\n",
    "plt.show()"
   ]
  },
  {
   "cell_type": "code",
   "execution_count": null,
   "metadata": {},
   "outputs": [],
   "source": [
    "#As p increases, the peak decreases and the length of time of the infection increases slightly\n",
    "#As q decreases, the peak increases and the length of time of the infection decreases significantly"
   ]
  },
  {
   "cell_type": "code",
   "execution_count": 29,
   "metadata": {},
   "outputs": [
    {
     "name": "stdout",
     "output_type": "stream",
     "text": [
      "Number of Edges: 19\n"
     ]
    },
    {
     "name": "stderr",
     "output_type": "stream",
     "text": [
      "C:\\Users\\mburs\\AppData\\Local\\Temp\\ipykernel_20396\\1908010638.py:4: DeprecationWarning: Sampling from a set deprecated\n",
      "since Python 3.9 and will be removed in a subsequent version.\n",
      "  G.remove_edges_from(random.sample(G.edges(), k=num))\n"
     ]
    },
    {
     "data": {
      "image/png": "[encoded data removed]",
      "text/plain": [
       "<Figure size 432x288 with 1 Axes>"
      ]
     },
     "metadata": {},
     "output_type": "display_data"
    }
   ],
   "source": [
    "s = 20\n",
    "p = 0 #change prob here -------------------------------------------------------------\n",
    "numGen = 30\n",
    "q = .55\n",
    "i = 2\n",
    "G = nx.complete_graph(s)   \n",
    "nx.set_node_attributes(G, \"s\", \"val\")\n",
    "removeRandom(G, p)\n",
    "print(f'Number of Edges: {G.number_of_edges()}')\n",
    "I = [i]\n",
    "start(G,i)\n",
    "nx.draw(G)"
   ]
  }
 ],
 "metadata": {
  "kernelspec": {
   "display_name": "Python 3.10.5 64-bit",
   "language": "python",
   "name": "python3"
  },
  "language_info": {
   "codemirror_mode": {
    "name": "ipython",
    "version": 3
   },
   "file_extension": ".py",
   "mimetype": "text/x-python",
   "name": "python",
   "nbconvert_exporter": "python",
   "pygments_lexer": "ipython3",
   "version": "3.10.5"
  },
  "orig_nbformat": 4,
  "vscode": {
   "interpreter": {
    "hash": "a148e496c0f49d57628151d2aab378855c5a8a7aaacdf2673cbe18e166795068"
   }
  }
 },
 "nbformat": 4,
 "nbformat_minor": 2
}
