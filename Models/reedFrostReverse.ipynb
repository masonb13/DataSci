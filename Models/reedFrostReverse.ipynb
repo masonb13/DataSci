{
 "cells": [
  {
   "cell_type": "code",
   "execution_count": 2,
   "metadata": {},
   "outputs": [],
   "source": [
    "# 1:\n",
    "# build a function that computes the probability of my dataset given S1, I1 and q and returns the probability of the dataset\n",
    "# 2: \n",
    "# input that dataset and input q values and to make a plot of q values by the probability of the dataset given q (likelihood function)"
   ]
  },
  {
   "cell_type": "markdown",
   "metadata": {},
   "source": [
    "Imports"
   ]
  },
  {
   "cell_type": "code",
   "execution_count": null,
   "metadata": {},
   "outputs": [
    {
     "ename": "",
     "evalue": "",
     "output_type": "error",
     "traceback": [
      "\u001b[1;31mRunning cells with 'Python 3.10.4 64-bit' requires ipykernel package.\n",
      "Run the following command to install 'ipykernel' into the Python environment. \n",
      "Command: 'c:/Python310/python.exe -m pip install ipykernel -U --user --force-reinstall'"
     ]
    }
   ],
   "source": [
    "import numpy as np\n",
    "import pandas as pd\n",
    "from scipy.stats import binom, poisson\n",
    "import matplotlib.pyplot as plt\n",
    "import statistics as stat"
   ]
  },
  {
   "cell_type": "code",
   "execution_count": 88,
   "metadata": {},
   "outputs": [],
   "source": [
    "def reedFrost(i, s, q, numGen):\n",
    "    r = 0\n",
    "\n",
    "    I = [i]\n",
    "    S = [s]\n",
    "    R = [r]\n",
    "    prob = []\n",
    "\n",
    "    for z in range(numGen):\n",
    "        n = S[-1]\n",
    "        p = (1-q**(I[-1]))\n",
    "        I.append(int(binom.rvs(n,p, size=1)))\n",
    "        prob.append(binom.pmf(k=I[-1], n=n, p=p))\n",
    "        S.append(S[-1]-I[-1])\n",
    "        R.append(R[-1]+I[-2])\n",
    "    distrProb = np.prod(prob)\n",
    "    return [distrProb, I]"
   ]
  },
  {
   "cell_type": "markdown",
   "metadata": {},
   "source": [
    "#1 build a function that computes the probability of my dataset given S1, I1 and q and returns the probability of the dataset"
   ]
  },
  {
   "cell_type": "code",
   "execution_count": 172,
   "metadata": {},
   "outputs": [
    {
     "name": "stdout",
     "output_type": "stream",
     "text": [
      "DataSet: [2, 9, 20, 54, 91, 149, 239, 325, 307, 219, 119, 42, 19, 2, 0, 0, 0, 0, 0, 0, 0]\n",
      "DistrProb: 2.042854289350434e-22\n"
     ]
    }
   ],
   "source": [
    "#Givens:\n",
    "numGen = 20;\n",
    "s = 2000\n",
    "q = .999\n",
    "i = 2\n",
    "\n",
    "output = reedFrost(i,s,q, numGen)\n",
    "print(\"DataSet: \" + str(output[1]))\n",
    "print(\"DistrProb: \" + str(output[0]))\n",
    "\n"
   ]
  },
  {
   "cell_type": "markdown",
   "metadata": {},
   "source": [
    "#2 input that dataset and input q values and to make a plot of q values by the probability of the dataset given q (likelihood function)"
   ]
  },
  {
   "cell_type": "code",
   "execution_count": 167,
   "metadata": {},
   "outputs": [],
   "source": [
    "def likelihood(data):\n",
    "\n",
    "    qList = np.linspace(0, 1, 500)\n",
    "    y = []\n",
    "    for ele in qList:\n",
    "        y.append(reedFrost(i, s, ele, numGen)[0])\n",
    "\n",
    "    plt.plot(qList, y)\n",
    "    plt.xlabel(\"Q Values\")\n",
    "    plt.ylabel(\"DistrProb\")\n",
    "    plt.grid()\n",
    "    plt.show()"
   ]
  },
  {
   "cell_type": "code",
   "execution_count": 168,
   "metadata": {},
   "outputs": [
    {
     "data": {
      "image/png": "[encoded data removed]",
      "text/plain": [
       "<Figure size 432x288 with 1 Axes>"
      ]
     },
     "metadata": {
      "needs_background": "light"
     },
     "output_type": "display_data"
    }
   ],
   "source": [
    "likelihood(output[0])"
   ]
  },
  {
   "cell_type": "code",
   "execution_count": 175,
   "metadata": {},
   "outputs": [],
   "source": [
    "def reedFrostSim(i, s, q, numRep, numGen):\n",
    "    r = 0\n",
    "\n",
    "    I = [i]\n",
    "    S = [s]\n",
    "    R = [r]\n",
    "\n",
    "    for z in range(numGen):\n",
    "        I.append(int(binom.rvs(S[-1],(1-q**(I[-1])), size=1)))\n",
    "        S.append(S[-1]-I[-1])\n",
    "        R.append(R[-1]+I[-2])\n",
    "\n",
    "    return [I,S,R]"
   ]
  },
  {
   "cell_type": "code",
   "execution_count": 269,
   "metadata": {},
   "outputs": [],
   "source": [
    "def reedLikelihood(I,S,q):\n",
    "    prob = []\n",
    "    for t in range(len(I)-1):\n",
    "        n = S[t]\n",
    "        p = (1-q**(I[t]))\n",
    "        prob.append(np.log(binom.pmf(k=I[t+1], n=n, p=p)))\n",
    "    \n",
    "    distrProb = sum(prob)\n",
    "    return distrProb"
   ]
  },
  {
   "cell_type": "code",
   "execution_count": 270,
   "metadata": {},
   "outputs": [],
   "source": [
    "numGen = 20;\n",
    "s = 2000\n",
    "q = .9\n",
    "i = 2\n",
    "I,S,R = reedFrostSim(i,s,q, 1, numGen)\n"
   ]
  },
  {
   "cell_type": "code",
   "execution_count": 272,
   "metadata": {},
   "outputs": [
    {
     "name": "stderr",
     "output_type": "stream",
     "text": [
      "C:\\Users\\Mase\\AppData\\Local\\Temp\\ipykernel_3420\\3811964176.py:6: RuntimeWarning: divide by zero encountered in log\n",
      "  prob.append(np.log(binom.pmf(k=I[t+1], n=n, p=p)))\n"
     ]
    },
    {
     "data": {
      "image/png": "[encoded data removed]",
      "text/plain": [
       "<Figure size 432x288 with 1 Axes>"
      ]
     },
     "metadata": {
      "needs_background": "light"
     },
     "output_type": "display_data"
    }
   ],
   "source": [
    "likelihood = []\n",
    "space = np.linspace(.5, 1, 1000)\n",
    "for q in space:\n",
    "    likelihood.append(reedLikelihood(I,S,q))\n",
    "\n",
    "plt.plot(space, likelihood)\n",
    "plt.grid()\n",
    "plt.show()"
   ]
  }
 ],
 "metadata": {
  "kernelspec": {
   "display_name": "Python 3.10.4 64-bit",
   "language": "python",
   "name": "python3"
  },
  "language_info": {
   "codemirror_mode": {
    "name": "ipython",
    "version": 3
   },
   "file_extension": ".py",
   "mimetype": "text/x-python",
   "name": "python",
   "nbconvert_exporter": "python",
   "pygments_lexer": "ipython3",
   "version": "3.10.4"
  },
  "orig_nbformat": 4,
  "vscode": {
   "interpreter": {
    "hash": "369f2c481f4da34e4445cda3fffd2e751bd1c4d706f27375911949ba6bb62e1c"
   }
  }
 },
 "nbformat": 4,
 "nbformat_minor": 2
}
